{
 "cells": [
  {
   "cell_type": "markdown",
   "metadata": {},
   "source": [
    "### AirBnb Booking Analysis"
   ]
  },
  {
   "cell_type": "markdown",
   "metadata": {
    "id": "Y06xIdG26kRF"
   },
   "source": [
    "Airbnb is a online marketplace for renting out homes/villas/ private rooms. The website charges a commission for every booking. \n",
    "Daily millions of listings generate a lot of data - data that can be analyzed and used for security, business decisions, understanding of customers' and providers' (hosts) behavior and performance on the platform, guiding marketing initiatives, implementation of innovative additional services and much more."
   ]
  },
  {
   "cell_type": "markdown",
   "metadata": {},
   "source": [
    "### Steps Performed"
   ]
  },
  {
   "cell_type": "markdown",
   "metadata": {},
   "source": [
    "- import necessary libraries\n",
    "- Data Cleaning\n",
    "- Data Wrangling\n",
    "- Treating ouliers\n",
    "- Exploratory Data Analysis\n",
    "- Find no.of listings in different neighbourhood and different neighbourhood group\n",
    "- No.of listings in different Room Type\n",
    "- Avg. price in different neighbourhood\n",
    "- Find Most Popular Hosts"
   ]
  },
  {
   "cell_type": "code",
   "execution_count": 1,
   "metadata": {
    "id": "dByMsuzT8Tnw"
   },
   "outputs": [],
   "source": [
    "# importing all necessary libraries\n",
    "\n",
    "import pandas as pd\n",
    "import numpy as np\n",
    "import matplotlib.pyplot as plt\n",
    "import seaborn as sns\n",
    "import warnings\n",
    "warnings.filterwarnings('ignore')"
   ]
  },
  {
   "cell_type": "markdown",
   "metadata": {},
   "source": [
    "### Data Inspection"
   ]
  },
  {
   "cell_type": "code",
   "execution_count": 2,
   "metadata": {
    "id": "CemI53W6UU7N"
   },
   "outputs": [],
   "source": [
    "#importing dataset\n",
    "\n",
    "nyc_df = pd.read_csv(r\"C:\\Users\\hussa\\Downloads\\Airbnb NYC 2019.csv\")"
   ]
  },
  {
   "cell_type": "code",
   "execution_count": 3,
   "metadata": {
    "colab": {
     "base_uri": "https://localhost:8080/"
    },
    "id": "jqaGVDyCUhw4",
    "outputId": "85241068-4b46-4a2d-b165-620b8c8173fe"
   },
   "outputs": [
    {
     "data": {
      "text/plain": [
       "(48895, 16)"
      ]
     },
     "execution_count": 3,
     "metadata": {},
     "output_type": "execute_result"
    }
   ],
   "source": [
    "# Total number of rows and columns in dataset \n",
    "\n",
    "nyc_df.shape"
   ]
  },
  {
   "cell_type": "code",
   "execution_count": 4,
   "metadata": {
    "colab": {
     "base_uri": "https://localhost:8080/"
    },
    "id": "zzpuM1YmUk3j",
    "outputId": "9a2bbcc4-8a6b-437c-dbf5-55ec453489c6"
   },
   "outputs": [
    {
     "name": "stdout",
     "output_type": "stream",
     "text": [
      "<class 'pandas.core.frame.DataFrame'>\n",
      "RangeIndex: 48895 entries, 0 to 48894\n",
      "Data columns (total 16 columns):\n",
      " #   Column                          Non-Null Count  Dtype  \n",
      "---  ------                          --------------  -----  \n",
      " 0   id                              48895 non-null  int64  \n",
      " 1   name                            48879 non-null  object \n",
      " 2   host_id                         48895 non-null  int64  \n",
      " 3   host_name                       48874 non-null  object \n",
      " 4   neighbourhood_group             48895 non-null  object \n",
      " 5   neighbourhood                   48895 non-null  object \n",
      " 6   latitude                        48895 non-null  float64\n",
      " 7   longitude                       48895 non-null  float64\n",
      " 8   room_type                       48895 non-null  object \n",
      " 9   price                           48895 non-null  int64  \n",
      " 10  minimum_nights                  48895 non-null  int64  \n",
      " 11  number_of_reviews               48895 non-null  int64  \n",
      " 12  last_review                     38843 non-null  object \n",
      " 13  reviews_per_month               38843 non-null  float64\n",
      " 14  calculated_host_listings_count  48895 non-null  int64  \n",
      " 15  availability_365                48895 non-null  int64  \n",
      "dtypes: float64(3), int64(7), object(6)\n",
      "memory usage: 6.0+ MB\n"
     ]
    }
   ],
   "source": [
    "# checking the basic information of dataset\n",
    "nyc_df.info()"
   ]
  },
  {
   "cell_type": "code",
   "execution_count": 5,
   "metadata": {
    "colab": {
     "base_uri": "https://localhost:8080/"
    },
    "id": "V_DorVl-Uoc6",
    "outputId": "42e95841-4b01-490e-b15b-f4756892ec0c"
   },
   "outputs": [
    {
     "data": {
      "text/plain": [
       "Index(['id', 'name', 'host_id', 'host_name', 'neighbourhood_group',\n",
       "       'neighbourhood', 'latitude', 'longitude', 'room_type', 'price',\n",
       "       'minimum_nights', 'number_of_reviews', 'last_review',\n",
       "       'reviews_per_month', 'calculated_host_listings_count',\n",
       "       'availability_365'],\n",
       "      dtype='object')"
      ]
     },
     "execution_count": 5,
     "metadata": {},
     "output_type": "execute_result"
    }
   ],
   "source": [
    "# List of column names of the dataset\n",
    "nyc_df.columns"
   ]
  },
  {
   "cell_type": "code",
   "execution_count": 6,
   "metadata": {
    "colab": {
     "base_uri": "https://localhost:8080/",
     "height": 411
    },
    "id": "vQgsftLxUtAm",
    "outputId": "b1ea3e41-fbe4-4864-a5c2-cd9bffa91695"
   },
   "outputs": [
    {
     "data": {
      "text/html": [
       "<div>\n",
       "<style scoped>\n",
       "    .dataframe tbody tr th:only-of-type {\n",
       "        vertical-align: middle;\n",
       "    }\n",
       "\n",
       "    .dataframe tbody tr th {\n",
       "        vertical-align: top;\n",
       "    }\n",
       "\n",
       "    .dataframe thead th {\n",
       "        text-align: right;\n",
       "    }\n",
       "</style>\n",
       "<table border=\"1\" class=\"dataframe\">\n",
       "  <thead>\n",
       "    <tr style=\"text-align: right;\">\n",
       "      <th></th>\n",
       "      <th>id</th>\n",
       "      <th>name</th>\n",
       "      <th>host_id</th>\n",
       "      <th>host_name</th>\n",
       "      <th>neighbourhood_group</th>\n",
       "      <th>neighbourhood</th>\n",
       "      <th>latitude</th>\n",
       "      <th>longitude</th>\n",
       "      <th>room_type</th>\n",
       "      <th>price</th>\n",
       "      <th>minimum_nights</th>\n",
       "      <th>number_of_reviews</th>\n",
       "      <th>last_review</th>\n",
       "      <th>reviews_per_month</th>\n",
       "      <th>calculated_host_listings_count</th>\n",
       "      <th>availability_365</th>\n",
       "    </tr>\n",
       "  </thead>\n",
       "  <tbody>\n",
       "    <tr>\n",
       "      <th>0</th>\n",
       "      <td>2539</td>\n",
       "      <td>Clean &amp; quiet apt home by the park</td>\n",
       "      <td>2787</td>\n",
       "      <td>John</td>\n",
       "      <td>Brooklyn</td>\n",
       "      <td>Kensington</td>\n",
       "      <td>40.64749</td>\n",
       "      <td>-73.97237</td>\n",
       "      <td>Private room</td>\n",
       "      <td>149</td>\n",
       "      <td>1</td>\n",
       "      <td>9</td>\n",
       "      <td>2018-10-19</td>\n",
       "      <td>0.21</td>\n",
       "      <td>6</td>\n",
       "      <td>365</td>\n",
       "    </tr>\n",
       "    <tr>\n",
       "      <th>1</th>\n",
       "      <td>2595</td>\n",
       "      <td>Skylit Midtown Castle</td>\n",
       "      <td>2845</td>\n",
       "      <td>Jennifer</td>\n",
       "      <td>Manhattan</td>\n",
       "      <td>Midtown</td>\n",
       "      <td>40.75362</td>\n",
       "      <td>-73.98377</td>\n",
       "      <td>Entire home/apt</td>\n",
       "      <td>225</td>\n",
       "      <td>1</td>\n",
       "      <td>45</td>\n",
       "      <td>2019-05-21</td>\n",
       "      <td>0.38</td>\n",
       "      <td>2</td>\n",
       "      <td>355</td>\n",
       "    </tr>\n",
       "    <tr>\n",
       "      <th>2</th>\n",
       "      <td>3647</td>\n",
       "      <td>THE VILLAGE OF HARLEM....NEW YORK !</td>\n",
       "      <td>4632</td>\n",
       "      <td>Elisabeth</td>\n",
       "      <td>Manhattan</td>\n",
       "      <td>Harlem</td>\n",
       "      <td>40.80902</td>\n",
       "      <td>-73.94190</td>\n",
       "      <td>Private room</td>\n",
       "      <td>150</td>\n",
       "      <td>3</td>\n",
       "      <td>0</td>\n",
       "      <td>NaN</td>\n",
       "      <td>NaN</td>\n",
       "      <td>1</td>\n",
       "      <td>365</td>\n",
       "    </tr>\n",
       "    <tr>\n",
       "      <th>3</th>\n",
       "      <td>3831</td>\n",
       "      <td>Cozy Entire Floor of Brownstone</td>\n",
       "      <td>4869</td>\n",
       "      <td>LisaRoxanne</td>\n",
       "      <td>Brooklyn</td>\n",
       "      <td>Clinton Hill</td>\n",
       "      <td>40.68514</td>\n",
       "      <td>-73.95976</td>\n",
       "      <td>Entire home/apt</td>\n",
       "      <td>89</td>\n",
       "      <td>1</td>\n",
       "      <td>270</td>\n",
       "      <td>2019-07-05</td>\n",
       "      <td>4.64</td>\n",
       "      <td>1</td>\n",
       "      <td>194</td>\n",
       "    </tr>\n",
       "    <tr>\n",
       "      <th>4</th>\n",
       "      <td>5022</td>\n",
       "      <td>Entire Apt: Spacious Studio/Loft by central park</td>\n",
       "      <td>7192</td>\n",
       "      <td>Laura</td>\n",
       "      <td>Manhattan</td>\n",
       "      <td>East Harlem</td>\n",
       "      <td>40.79851</td>\n",
       "      <td>-73.94399</td>\n",
       "      <td>Entire home/apt</td>\n",
       "      <td>80</td>\n",
       "      <td>10</td>\n",
       "      <td>9</td>\n",
       "      <td>2018-11-19</td>\n",
       "      <td>0.10</td>\n",
       "      <td>1</td>\n",
       "      <td>0</td>\n",
       "    </tr>\n",
       "  </tbody>\n",
       "</table>\n",
       "</div>"
      ],
      "text/plain": [
       "     id                                              name  host_id  \\\n",
       "0  2539                Clean & quiet apt home by the park     2787   \n",
       "1  2595                             Skylit Midtown Castle     2845   \n",
       "2  3647               THE VILLAGE OF HARLEM....NEW YORK !     4632   \n",
       "3  3831                   Cozy Entire Floor of Brownstone     4869   \n",
       "4  5022  Entire Apt: Spacious Studio/Loft by central park     7192   \n",
       "\n",
       "     host_name neighbourhood_group neighbourhood  latitude  longitude  \\\n",
       "0         John            Brooklyn    Kensington  40.64749  -73.97237   \n",
       "1     Jennifer           Manhattan       Midtown  40.75362  -73.98377   \n",
       "2    Elisabeth           Manhattan        Harlem  40.80902  -73.94190   \n",
       "3  LisaRoxanne            Brooklyn  Clinton Hill  40.68514  -73.95976   \n",
       "4        Laura           Manhattan   East Harlem  40.79851  -73.94399   \n",
       "\n",
       "         room_type  price  minimum_nights  number_of_reviews last_review  \\\n",
       "0     Private room    149               1                  9  2018-10-19   \n",
       "1  Entire home/apt    225               1                 45  2019-05-21   \n",
       "2     Private room    150               3                  0         NaN   \n",
       "3  Entire home/apt     89               1                270  2019-07-05   \n",
       "4  Entire home/apt     80              10                  9  2018-11-19   \n",
       "\n",
       "   reviews_per_month  calculated_host_listings_count  availability_365  \n",
       "0               0.21                               6               365  \n",
       "1               0.38                               2               355  \n",
       "2                NaN                               1               365  \n",
       "3               4.64                               1               194  \n",
       "4               0.10                               1                 0  "
      ]
     },
     "execution_count": 6,
     "metadata": {},
     "output_type": "execute_result"
    }
   ],
   "source": [
    "nyc_df.head()"
   ]
  },
  {
   "cell_type": "markdown",
   "metadata": {
    "id": "so3roafkU87D"
   },
   "source": [
    "## Data Cleaning"
   ]
  },
  {
   "cell_type": "code",
   "execution_count": 7,
   "metadata": {
    "colab": {
     "base_uri": "https://localhost:8080/"
    },
    "id": "Mca_NXz1UwaS",
    "outputId": "90e25645-5a8f-4202-e765-6089afd7f190"
   },
   "outputs": [
    {
     "data": {
      "text/plain": [
       "id                                    0\n",
       "name                                 16\n",
       "host_id                               0\n",
       "host_name                            21\n",
       "neighbourhood_group                   0\n",
       "neighbourhood                         0\n",
       "latitude                              0\n",
       "longitude                             0\n",
       "room_type                             0\n",
       "price                                 0\n",
       "minimum_nights                        0\n",
       "number_of_reviews                     0\n",
       "last_review                       10052\n",
       "reviews_per_month                 10052\n",
       "calculated_host_listings_count        0\n",
       "availability_365                      0\n",
       "dtype: int64"
      ]
     },
     "execution_count": 7,
     "metadata": {},
     "output_type": "execute_result"
    }
   ],
   "source": [
    "# count the number of missing values in each column\n",
    "nyc_df.isna().sum()"
   ]
  },
  {
   "cell_type": "markdown",
   "metadata": {
    "id": "tphWk-I5VrDp"
   },
   "source": [
    "* The highest missing value is in reviews_per_month and last_reviews column, I thing this becz most of people don't write the    reviews.host_name and name also have the missing value this may be becz of some technical issue.\n",
    "* We can handle the missing value in review_per_month by default value.\n",
    "* We can handle the missing value in name and host_name only by droping them."
   ]
  },
  {
   "cell_type": "code",
   "execution_count": 8,
   "metadata": {
    "id": "GGN-MDnqVlmH"
   },
   "outputs": [],
   "source": [
    "# Filling the missing value in reviews_per_month  with default value 0 (0 reviews) \n",
    "nyc_df['reviews_per_month'].fillna(0,inplace=True)"
   ]
  },
  {
   "cell_type": "code",
   "execution_count": 9,
   "metadata": {
    "id": "cxZ0Z1PGVyU7"
   },
   "outputs": [],
   "source": [
    "#Drop unecessary attributes which is not relevant to book a room:name and last_review\n",
    "nyc_df.drop(['name','last_review'],axis=1,inplace=True)"
   ]
  },
  {
   "cell_type": "code",
   "execution_count": 10,
   "metadata": {
    "id": "QlgLHMNmV1m0"
   },
   "outputs": [],
   "source": [
    "# Droping rows which is have null values \n",
    "nyc_df.dropna(inplace=True)"
   ]
  },
  {
   "cell_type": "code",
   "execution_count": 11,
   "metadata": {
    "colab": {
     "base_uri": "https://localhost:8080/"
    },
    "id": "Gb3dHTi8V6Zz",
    "outputId": "48fd603b-85db-40d6-d5b5-5561c5ee36c0"
   },
   "outputs": [
    {
     "data": {
      "text/plain": [
       "(id                                0\n",
       " host_id                           0\n",
       " host_name                         0\n",
       " neighbourhood_group               0\n",
       " neighbourhood                     0\n",
       " latitude                          0\n",
       " longitude                         0\n",
       " room_type                         0\n",
       " price                             0\n",
       " minimum_nights                    0\n",
       " number_of_reviews                 0\n",
       " reviews_per_month                 0\n",
       " calculated_host_listings_count    0\n",
       " availability_365                  0\n",
       " dtype: int64,\n",
       " (48874, 14))"
      ]
     },
     "execution_count": 11,
     "metadata": {},
     "output_type": "execute_result"
    }
   ],
   "source": [
    "nyc_df.isnull().sum(),nyc_df.shape"
   ]
  },
  {
   "cell_type": "markdown",
   "metadata": {
    "id": "YfhcFFkcWOjm"
   },
   "source": [
    "There is no missing values in dataset now."
   ]
  },
  {
   "cell_type": "code",
   "execution_count": 12,
   "metadata": {
    "colab": {
     "base_uri": "https://localhost:8080/",
     "height": 317
    },
    "id": "6CNNrUMiWByA",
    "outputId": "1aa74dbc-ab37-4469-ea03-74a2c55c5e1e"
   },
   "outputs": [
    {
     "data": {
      "text/html": [
       "<div>\n",
       "<style scoped>\n",
       "    .dataframe tbody tr th:only-of-type {\n",
       "        vertical-align: middle;\n",
       "    }\n",
       "\n",
       "    .dataframe tbody tr th {\n",
       "        vertical-align: top;\n",
       "    }\n",
       "\n",
       "    .dataframe thead th {\n",
       "        text-align: right;\n",
       "    }\n",
       "</style>\n",
       "<table border=\"1\" class=\"dataframe\">\n",
       "  <thead>\n",
       "    <tr style=\"text-align: right;\">\n",
       "      <th></th>\n",
       "      <th>id</th>\n",
       "      <th>host_id</th>\n",
       "      <th>latitude</th>\n",
       "      <th>longitude</th>\n",
       "      <th>price</th>\n",
       "      <th>minimum_nights</th>\n",
       "      <th>number_of_reviews</th>\n",
       "      <th>reviews_per_month</th>\n",
       "      <th>calculated_host_listings_count</th>\n",
       "      <th>availability_365</th>\n",
       "    </tr>\n",
       "  </thead>\n",
       "  <tbody>\n",
       "    <tr>\n",
       "      <th>count</th>\n",
       "      <td>4.887400e+04</td>\n",
       "      <td>4.887400e+04</td>\n",
       "      <td>48874.000000</td>\n",
       "      <td>48874.000000</td>\n",
       "      <td>48874.000000</td>\n",
       "      <td>48874.000000</td>\n",
       "      <td>48874.000000</td>\n",
       "      <td>48874.000000</td>\n",
       "      <td>48874.000000</td>\n",
       "      <td>48874.000000</td>\n",
       "    </tr>\n",
       "    <tr>\n",
       "      <th>mean</th>\n",
       "      <td>1.901988e+07</td>\n",
       "      <td>6.762157e+07</td>\n",
       "      <td>40.728946</td>\n",
       "      <td>-73.952172</td>\n",
       "      <td>152.738634</td>\n",
       "      <td>7.031387</td>\n",
       "      <td>23.266358</td>\n",
       "      <td>1.090785</td>\n",
       "      <td>7.146458</td>\n",
       "      <td>112.793755</td>\n",
       "    </tr>\n",
       "    <tr>\n",
       "      <th>std</th>\n",
       "      <td>1.098318e+07</td>\n",
       "      <td>7.861415e+07</td>\n",
       "      <td>0.054529</td>\n",
       "      <td>0.046156</td>\n",
       "      <td>240.199728</td>\n",
       "      <td>20.514423</td>\n",
       "      <td>44.544330</td>\n",
       "      <td>1.597119</td>\n",
       "      <td>32.959378</td>\n",
       "      <td>131.619934</td>\n",
       "    </tr>\n",
       "    <tr>\n",
       "      <th>min</th>\n",
       "      <td>2.539000e+03</td>\n",
       "      <td>2.438000e+03</td>\n",
       "      <td>40.499790</td>\n",
       "      <td>-74.244420</td>\n",
       "      <td>0.000000</td>\n",
       "      <td>1.000000</td>\n",
       "      <td>0.000000</td>\n",
       "      <td>0.000000</td>\n",
       "      <td>1.000000</td>\n",
       "      <td>0.000000</td>\n",
       "    </tr>\n",
       "    <tr>\n",
       "      <th>25%</th>\n",
       "      <td>9.474068e+06</td>\n",
       "      <td>7.823258e+06</td>\n",
       "      <td>40.690100</td>\n",
       "      <td>-73.983078</td>\n",
       "      <td>69.000000</td>\n",
       "      <td>1.000000</td>\n",
       "      <td>1.000000</td>\n",
       "      <td>0.040000</td>\n",
       "      <td>1.000000</td>\n",
       "      <td>0.000000</td>\n",
       "    </tr>\n",
       "    <tr>\n",
       "      <th>50%</th>\n",
       "      <td>1.967936e+07</td>\n",
       "      <td>3.079257e+07</td>\n",
       "      <td>40.723065</td>\n",
       "      <td>-73.955680</td>\n",
       "      <td>106.000000</td>\n",
       "      <td>3.000000</td>\n",
       "      <td>5.000000</td>\n",
       "      <td>0.370000</td>\n",
       "      <td>1.000000</td>\n",
       "      <td>45.000000</td>\n",
       "    </tr>\n",
       "    <tr>\n",
       "      <th>75%</th>\n",
       "      <td>2.915342e+07</td>\n",
       "      <td>1.074344e+08</td>\n",
       "      <td>40.763110</td>\n",
       "      <td>-73.936273</td>\n",
       "      <td>175.000000</td>\n",
       "      <td>5.000000</td>\n",
       "      <td>24.000000</td>\n",
       "      <td>1.580000</td>\n",
       "      <td>2.000000</td>\n",
       "      <td>227.000000</td>\n",
       "    </tr>\n",
       "    <tr>\n",
       "      <th>max</th>\n",
       "      <td>3.648724e+07</td>\n",
       "      <td>2.743213e+08</td>\n",
       "      <td>40.913060</td>\n",
       "      <td>-73.712990</td>\n",
       "      <td>10000.000000</td>\n",
       "      <td>1250.000000</td>\n",
       "      <td>629.000000</td>\n",
       "      <td>58.500000</td>\n",
       "      <td>327.000000</td>\n",
       "      <td>365.000000</td>\n",
       "    </tr>\n",
       "  </tbody>\n",
       "</table>\n",
       "</div>"
      ],
      "text/plain": [
       "                 id       host_id      latitude     longitude         price  \\\n",
       "count  4.887400e+04  4.887400e+04  48874.000000  48874.000000  48874.000000   \n",
       "mean   1.901988e+07  6.762157e+07     40.728946    -73.952172    152.738634   \n",
       "std    1.098318e+07  7.861415e+07      0.054529      0.046156    240.199728   \n",
       "min    2.539000e+03  2.438000e+03     40.499790    -74.244420      0.000000   \n",
       "25%    9.474068e+06  7.823258e+06     40.690100    -73.983078     69.000000   \n",
       "50%    1.967936e+07  3.079257e+07     40.723065    -73.955680    106.000000   \n",
       "75%    2.915342e+07  1.074344e+08     40.763110    -73.936273    175.000000   \n",
       "max    3.648724e+07  2.743213e+08     40.913060    -73.712990  10000.000000   \n",
       "\n",
       "       minimum_nights  number_of_reviews  reviews_per_month  \\\n",
       "count    48874.000000       48874.000000       48874.000000   \n",
       "mean         7.031387          23.266358           1.090785   \n",
       "std         20.514423          44.544330           1.597119   \n",
       "min          1.000000           0.000000           0.000000   \n",
       "25%          1.000000           1.000000           0.040000   \n",
       "50%          3.000000           5.000000           0.370000   \n",
       "75%          5.000000          24.000000           1.580000   \n",
       "max       1250.000000         629.000000          58.500000   \n",
       "\n",
       "       calculated_host_listings_count  availability_365  \n",
       "count                    48874.000000      48874.000000  \n",
       "mean                         7.146458        112.793755  \n",
       "std                         32.959378        131.619934  \n",
       "min                          1.000000          0.000000  \n",
       "25%                          1.000000          0.000000  \n",
       "50%                          1.000000         45.000000  \n",
       "75%                          2.000000        227.000000  \n",
       "max                        327.000000        365.000000  "
      ]
     },
     "execution_count": 12,
     "metadata": {},
     "output_type": "execute_result"
    }
   ],
   "source": [
    "# Getting the basic statistics analysis of the overall dataset\n",
    "nyc_df.describe()"
   ]
  },
  {
   "cell_type": "markdown",
   "metadata": {},
   "source": [
    "### Box Plot to check Outliers"
   ]
  },
  {
   "cell_type": "code",
   "execution_count": 13,
   "metadata": {
    "colab": {
     "base_uri": "https://localhost:8080/",
     "height": 265
    },
    "id": "_u4ePQHJWTe6",
    "outputId": "b9c56595-037a-4eec-9461-8afd82ad8c74"
   },
   "outputs": [
    {
     "data": {
      "image/png": "[encoded data removed]",
      "text/plain": [
       "<Figure size 432x288 with 1 Axes>"
      ]
     },
     "metadata": {
      "needs_background": "light"
     },
     "output_type": "display_data"
    }
   ],
   "source": [
    "# checking for outlier in price\n",
    "nyc_df.price.plot(kind='box',vert=False)\n",
    "plt.show()"
   ]
  },
  {
   "cell_type": "markdown",
   "metadata": {
    "id": "L4EowKcDWjzw"
   },
   "source": [
    "* The box plot above helps to visualize the price distribution.\n",
    "* We have lower quantile at price`$0`.\n",
    "* We have upper quantile at price`$10,000`."
   ]
  },
  {
   "cell_type": "code",
   "execution_count": 14,
   "metadata": {
    "colab": {
     "base_uri": "https://localhost:8080/"
    },
    "id": "CiK87XUFWXd_",
    "outputId": "d3818b55-08ed-429c-c8f7-e047c9c40ab2"
   },
   "outputs": [
    {
     "data": {
      "text/plain": [
       "(30.0, 1000.0)"
      ]
     },
     "execution_count": 14,
     "metadata": {},
     "output_type": "execute_result"
    }
   ],
   "source": [
    "# Defining the price range\n",
    "\n",
    "q_low = nyc_df[\"price\"].quantile(0.01)\n",
    "q_hi  = nyc_df[\"price\"].quantile(0.995)\n",
    "q_low,q_hi"
   ]
  },
  {
   "cell_type": "code",
   "execution_count": 15,
   "metadata": {
    "colab": {
     "base_uri": "https://localhost:8080/"
    },
    "id": "OmFZyoSwWwXE",
    "outputId": "a36908ab-82c8-4804-fd13-9ce9f644d517"
   },
   "outputs": [
    {
     "data": {
      "text/plain": [
       "(47918, 14)"
      ]
     },
     "execution_count": 15,
     "metadata": {},
     "output_type": "execute_result"
    }
   ],
   "source": [
    "airbnb_df = nyc_df[(nyc_df[\"price\"] < q_hi) & (nyc_df[\"price\"] > q_low)]\n",
    "airbnb_df.shape"
   ]
  },
  {
   "cell_type": "code",
   "execution_count": 16,
   "metadata": {
    "colab": {
     "base_uri": "https://localhost:8080/"
    },
    "id": "tNHp7jK5Wzsn",
    "outputId": "4cc11416-6fd1-48a3-c932-49ed710e0336"
   },
   "outputs": [
    {
     "data": {
      "text/plain": [
       "array(['Brooklyn', 'Manhattan', 'Queens', 'Staten Island', 'Bronx'],\n",
       "      dtype=object)"
      ]
     },
     "execution_count": 16,
     "metadata": {},
     "output_type": "execute_result"
    }
   ],
   "source": [
    "# Examining the unique value in neighbourhood group column\n",
    "\n",
    "airbnb_df['neighbourhood_group'].unique()"
   ]
  },
  {
   "cell_type": "code",
   "execution_count": 17,
   "metadata": {
    "colab": {
     "base_uri": "https://localhost:8080/"
    },
    "id": "cYviFO7vW3Cu",
    "outputId": "c015a16f-dd95-4566-9579-45fa2dff77e0"
   },
   "outputs": [
    {
     "data": {
      "text/plain": [
       "221"
      ]
     },
     "execution_count": 17,
     "metadata": {},
     "output_type": "execute_result"
    }
   ],
   "source": [
    "# Examining the unique value in neighbourhood column\n",
    "\n",
    "len(airbnb_df['neighbourhood'].unique())"
   ]
  },
  {
   "cell_type": "code",
   "execution_count": 18,
   "metadata": {
    "colab": {
     "base_uri": "https://localhost:8080/"
    },
    "id": "5rMJpV_2W6el",
    "outputId": "d4479814-bf93-4bcf-be0e-ada34ca41c42"
   },
   "outputs": [
    {
     "data": {
      "text/plain": [
       "array(['Private room', 'Entire home/apt', 'Shared room'], dtype=object)"
      ]
     },
     "execution_count": 18,
     "metadata": {},
     "output_type": "execute_result"
    }
   ],
   "source": [
    "# Examining the unique value in room type column\n",
    "airbnb_df['room_type'].unique()"
   ]
  },
  {
   "cell_type": "markdown",
   "metadata": {
    "id": "Xia6idycXCrS"
   },
   "source": [
    "# Exploring and Visualizing Data"
   ]
  },
  {
   "cell_type": "code",
   "execution_count": 19,
   "metadata": {
    "colab": {
     "base_uri": "https://localhost:8080/",
     "height": 309
    },
    "id": "Th67mH4vW9i_",
    "outputId": "d286d901-dfa7-4123-ab7a-fb504c0d5f30"
   },
   "outputs": [
    {
     "data": {
      "text/html": [
       "<div>\n",
       "<style scoped>\n",
       "    .dataframe tbody tr th:only-of-type {\n",
       "        vertical-align: middle;\n",
       "    }\n",
       "\n",
       "    .dataframe tbody tr th {\n",
       "        vertical-align: top;\n",
       "    }\n",
       "\n",
       "    .dataframe thead th {\n",
       "        text-align: right;\n",
       "    }\n",
       "</style>\n",
       "<table border=\"1\" class=\"dataframe\">\n",
       "  <thead>\n",
       "    <tr style=\"text-align: right;\">\n",
       "      <th></th>\n",
       "      <th>id</th>\n",
       "      <th>host_id</th>\n",
       "      <th>host_name</th>\n",
       "      <th>neighbourhood_group</th>\n",
       "      <th>neighbourhood</th>\n",
       "      <th>latitude</th>\n",
       "      <th>longitude</th>\n",
       "      <th>room_type</th>\n",
       "      <th>price</th>\n",
       "      <th>minimum_nights</th>\n",
       "      <th>number_of_reviews</th>\n",
       "      <th>reviews_per_month</th>\n",
       "      <th>calculated_host_listings_count</th>\n",
       "      <th>availability_365</th>\n",
       "    </tr>\n",
       "  </thead>\n",
       "  <tbody>\n",
       "    <tr>\n",
       "      <th>0</th>\n",
       "      <td>2539</td>\n",
       "      <td>2787</td>\n",
       "      <td>John</td>\n",
       "      <td>Brooklyn</td>\n",
       "      <td>Kensington</td>\n",
       "      <td>40.64749</td>\n",
       "      <td>-73.97237</td>\n",
       "      <td>Private room</td>\n",
       "      <td>149</td>\n",
       "      <td>1</td>\n",
       "      <td>9</td>\n",
       "      <td>0.21</td>\n",
       "      <td>6</td>\n",
       "      <td>365</td>\n",
       "    </tr>\n",
       "    <tr>\n",
       "      <th>1</th>\n",
       "      <td>2595</td>\n",
       "      <td>2845</td>\n",
       "      <td>Jennifer</td>\n",
       "      <td>Manhattan</td>\n",
       "      <td>Midtown</td>\n",
       "      <td>40.75362</td>\n",
       "      <td>-73.98377</td>\n",
       "      <td>Entire home/apt</td>\n",
       "      <td>225</td>\n",
       "      <td>1</td>\n",
       "      <td>45</td>\n",
       "      <td>0.38</td>\n",
       "      <td>2</td>\n",
       "      <td>355</td>\n",
       "    </tr>\n",
       "    <tr>\n",
       "      <th>2</th>\n",
       "      <td>3647</td>\n",
       "      <td>4632</td>\n",
       "      <td>Elisabeth</td>\n",
       "      <td>Manhattan</td>\n",
       "      <td>Harlem</td>\n",
       "      <td>40.80902</td>\n",
       "      <td>-73.94190</td>\n",
       "      <td>Private room</td>\n",
       "      <td>150</td>\n",
       "      <td>3</td>\n",
       "      <td>0</td>\n",
       "      <td>0.00</td>\n",
       "      <td>1</td>\n",
       "      <td>365</td>\n",
       "    </tr>\n",
       "    <tr>\n",
       "      <th>3</th>\n",
       "      <td>3831</td>\n",
       "      <td>4869</td>\n",
       "      <td>LisaRoxanne</td>\n",
       "      <td>Brooklyn</td>\n",
       "      <td>Clinton Hill</td>\n",
       "      <td>40.68514</td>\n",
       "      <td>-73.95976</td>\n",
       "      <td>Entire home/apt</td>\n",
       "      <td>89</td>\n",
       "      <td>1</td>\n",
       "      <td>270</td>\n",
       "      <td>4.64</td>\n",
       "      <td>1</td>\n",
       "      <td>194</td>\n",
       "    </tr>\n",
       "    <tr>\n",
       "      <th>4</th>\n",
       "      <td>5022</td>\n",
       "      <td>7192</td>\n",
       "      <td>Laura</td>\n",
       "      <td>Manhattan</td>\n",
       "      <td>East Harlem</td>\n",
       "      <td>40.79851</td>\n",
       "      <td>-73.94399</td>\n",
       "      <td>Entire home/apt</td>\n",
       "      <td>80</td>\n",
       "      <td>10</td>\n",
       "      <td>9</td>\n",
       "      <td>0.10</td>\n",
       "      <td>1</td>\n",
       "      <td>0</td>\n",
       "    </tr>\n",
       "  </tbody>\n",
       "</table>\n",
       "</div>"
      ],
      "text/plain": [
       "     id  host_id    host_name neighbourhood_group neighbourhood  latitude  \\\n",
       "0  2539     2787         John            Brooklyn    Kensington  40.64749   \n",
       "1  2595     2845     Jennifer           Manhattan       Midtown  40.75362   \n",
       "2  3647     4632    Elisabeth           Manhattan        Harlem  40.80902   \n",
       "3  3831     4869  LisaRoxanne            Brooklyn  Clinton Hill  40.68514   \n",
       "4  5022     7192        Laura           Manhattan   East Harlem  40.79851   \n",
       "\n",
       "   longitude        room_type  price  minimum_nights  number_of_reviews  \\\n",
       "0  -73.97237     Private room    149               1                  9   \n",
       "1  -73.98377  Entire home/apt    225               1                 45   \n",
       "2  -73.94190     Private room    150               3                  0   \n",
       "3  -73.95976  Entire home/apt     89               1                270   \n",
       "4  -73.94399  Entire home/apt     80              10                  9   \n",
       "\n",
       "   reviews_per_month  calculated_host_listings_count  availability_365  \n",
       "0               0.21                               6               365  \n",
       "1               0.38                               2               355  \n",
       "2               0.00                               1               365  \n",
       "3               4.64                               1               194  \n",
       "4               0.10                               1                 0  "
      ]
     },
     "execution_count": 19,
     "metadata": {},
     "output_type": "execute_result"
    }
   ],
   "source": [
    "# First 5 rows\n",
    "airbnb_df.head()"
   ]
  },
  {
   "cell_type": "code",
   "execution_count": 20,
   "metadata": {
    "colab": {
     "base_uri": "https://localhost:8080/",
     "height": 309
    },
    "id": "NNwHUi4XXHor",
    "outputId": "ba25990f-4a84-4384-fd71-2bbc5047579a"
   },
   "outputs": [
    {
     "data": {
      "text/html": [
       "<div>\n",
       "<style scoped>\n",
       "    .dataframe tbody tr th:only-of-type {\n",
       "        vertical-align: middle;\n",
       "    }\n",
       "\n",
       "    .dataframe tbody tr th {\n",
       "        vertical-align: top;\n",
       "    }\n",
       "\n",
       "    .dataframe thead th {\n",
       "        text-align: right;\n",
       "    }\n",
       "</style>\n",
       "<table border=\"1\" class=\"dataframe\">\n",
       "  <thead>\n",
       "    <tr style=\"text-align: right;\">\n",
       "      <th></th>\n",
       "      <th>id</th>\n",
       "      <th>host_id</th>\n",
       "      <th>host_name</th>\n",
       "      <th>neighbourhood_group</th>\n",
       "      <th>neighbourhood</th>\n",
       "      <th>latitude</th>\n",
       "      <th>longitude</th>\n",
       "      <th>room_type</th>\n",
       "      <th>price</th>\n",
       "      <th>minimum_nights</th>\n",
       "      <th>number_of_reviews</th>\n",
       "      <th>reviews_per_month</th>\n",
       "      <th>calculated_host_listings_count</th>\n",
       "      <th>availability_365</th>\n",
       "    </tr>\n",
       "  </thead>\n",
       "  <tbody>\n",
       "    <tr>\n",
       "      <th>48890</th>\n",
       "      <td>36484665</td>\n",
       "      <td>8232441</td>\n",
       "      <td>Sabrina</td>\n",
       "      <td>Brooklyn</td>\n",
       "      <td>Bedford-Stuyvesant</td>\n",
       "      <td>40.67853</td>\n",
       "      <td>-73.94995</td>\n",
       "      <td>Private room</td>\n",
       "      <td>70</td>\n",
       "      <td>2</td>\n",
       "      <td>0</td>\n",
       "      <td>0.0</td>\n",
       "      <td>2</td>\n",
       "      <td>9</td>\n",
       "    </tr>\n",
       "    <tr>\n",
       "      <th>48891</th>\n",
       "      <td>36485057</td>\n",
       "      <td>6570630</td>\n",
       "      <td>Marisol</td>\n",
       "      <td>Brooklyn</td>\n",
       "      <td>Bushwick</td>\n",
       "      <td>40.70184</td>\n",
       "      <td>-73.93317</td>\n",
       "      <td>Private room</td>\n",
       "      <td>40</td>\n",
       "      <td>4</td>\n",
       "      <td>0</td>\n",
       "      <td>0.0</td>\n",
       "      <td>2</td>\n",
       "      <td>36</td>\n",
       "    </tr>\n",
       "    <tr>\n",
       "      <th>48892</th>\n",
       "      <td>36485431</td>\n",
       "      <td>23492952</td>\n",
       "      <td>Ilgar &amp; Aysel</td>\n",
       "      <td>Manhattan</td>\n",
       "      <td>Harlem</td>\n",
       "      <td>40.81475</td>\n",
       "      <td>-73.94867</td>\n",
       "      <td>Entire home/apt</td>\n",
       "      <td>115</td>\n",
       "      <td>10</td>\n",
       "      <td>0</td>\n",
       "      <td>0.0</td>\n",
       "      <td>1</td>\n",
       "      <td>27</td>\n",
       "    </tr>\n",
       "    <tr>\n",
       "      <th>48893</th>\n",
       "      <td>36485609</td>\n",
       "      <td>30985759</td>\n",
       "      <td>Taz</td>\n",
       "      <td>Manhattan</td>\n",
       "      <td>Hell's Kitchen</td>\n",
       "      <td>40.75751</td>\n",
       "      <td>-73.99112</td>\n",
       "      <td>Shared room</td>\n",
       "      <td>55</td>\n",
       "      <td>1</td>\n",
       "      <td>0</td>\n",
       "      <td>0.0</td>\n",
       "      <td>6</td>\n",
       "      <td>2</td>\n",
       "    </tr>\n",
       "    <tr>\n",
       "      <th>48894</th>\n",
       "      <td>36487245</td>\n",
       "      <td>68119814</td>\n",
       "      <td>Christophe</td>\n",
       "      <td>Manhattan</td>\n",
       "      <td>Hell's Kitchen</td>\n",
       "      <td>40.76404</td>\n",
       "      <td>-73.98933</td>\n",
       "      <td>Private room</td>\n",
       "      <td>90</td>\n",
       "      <td>7</td>\n",
       "      <td>0</td>\n",
       "      <td>0.0</td>\n",
       "      <td>1</td>\n",
       "      <td>23</td>\n",
       "    </tr>\n",
       "  </tbody>\n",
       "</table>\n",
       "</div>"
      ],
      "text/plain": [
       "             id   host_id      host_name neighbourhood_group  \\\n",
       "48890  36484665   8232441        Sabrina            Brooklyn   \n",
       "48891  36485057   6570630        Marisol            Brooklyn   \n",
       "48892  36485431  23492952  Ilgar & Aysel           Manhattan   \n",
       "48893  36485609  30985759            Taz           Manhattan   \n",
       "48894  36487245  68119814     Christophe           Manhattan   \n",
       "\n",
       "            neighbourhood  latitude  longitude        room_type  price  \\\n",
       "48890  Bedford-Stuyvesant  40.67853  -73.94995     Private room     70   \n",
       "48891            Bushwick  40.70184  -73.93317     Private room     40   \n",
       "48892              Harlem  40.81475  -73.94867  Entire home/apt    115   \n",
       "48893      Hell's Kitchen  40.75751  -73.99112      Shared room     55   \n",
       "48894      Hell's Kitchen  40.76404  -73.98933     Private room     90   \n",
       "\n",
       "       minimum_nights  number_of_reviews  reviews_per_month  \\\n",
       "48890               2                  0                0.0   \n",
       "48891               4                  0                0.0   \n",
       "48892              10                  0                0.0   \n",
       "48893               1                  0                0.0   \n",
       "48894               7                  0                0.0   \n",
       "\n",
       "       calculated_host_listings_count  availability_365  \n",
       "48890                               2                 9  \n",
       "48891                               2                36  \n",
       "48892                               1                27  \n",
       "48893                               6                 2  \n",
       "48894                               1                23  "
      ]
     },
     "execution_count": 20,
     "metadata": {},
     "output_type": "execute_result"
    }
   ],
   "source": [
    "# Last 5 rows\n",
    "airbnb_df.tail()"
   ]
  },
  {
   "cell_type": "code",
   "execution_count": 21,
   "metadata": {
    "colab": {
     "base_uri": "https://localhost:8080/",
     "height": 317
    },
    "id": "XpdRxQVtXKzM",
    "outputId": "0a0f7dad-ee3d-4d90-cb76-35f209571266"
   },
   "outputs": [
    {
     "data": {
      "text/html": [
       "<div>\n",
       "<style scoped>\n",
       "    .dataframe tbody tr th:only-of-type {\n",
       "        vertical-align: middle;\n",
       "    }\n",
       "\n",
       "    .dataframe tbody tr th {\n",
       "        vertical-align: top;\n",
       "    }\n",
       "\n",
       "    .dataframe thead th {\n",
       "        text-align: right;\n",
       "    }\n",
       "</style>\n",
       "<table border=\"1\" class=\"dataframe\">\n",
       "  <thead>\n",
       "    <tr style=\"text-align: right;\">\n",
       "      <th></th>\n",
       "      <th>id</th>\n",
       "      <th>host_id</th>\n",
       "      <th>latitude</th>\n",
       "      <th>longitude</th>\n",
       "      <th>price</th>\n",
       "      <th>minimum_nights</th>\n",
       "      <th>number_of_reviews</th>\n",
       "      <th>reviews_per_month</th>\n",
       "      <th>calculated_host_listings_count</th>\n",
       "      <th>availability_365</th>\n",
       "    </tr>\n",
       "  </thead>\n",
       "  <tbody>\n",
       "    <tr>\n",
       "      <th>count</th>\n",
       "      <td>4.791800e+04</td>\n",
       "      <td>4.791800e+04</td>\n",
       "      <td>47918.000000</td>\n",
       "      <td>47918.000000</td>\n",
       "      <td>47918.000000</td>\n",
       "      <td>47918.000000</td>\n",
       "      <td>47918.000000</td>\n",
       "      <td>47918.000000</td>\n",
       "      <td>47918.000000</td>\n",
       "      <td>47918.000000</td>\n",
       "    </tr>\n",
       "    <tr>\n",
       "      <th>mean</th>\n",
       "      <td>1.897099e+07</td>\n",
       "      <td>6.724387e+07</td>\n",
       "      <td>40.729133</td>\n",
       "      <td>-73.952386</td>\n",
       "      <td>141.817209</td>\n",
       "      <td>6.970867</td>\n",
       "      <td>23.464293</td>\n",
       "      <td>1.095795</td>\n",
       "      <td>7.212488</td>\n",
       "      <td>112.430611</td>\n",
       "    </tr>\n",
       "    <tr>\n",
       "      <th>std</th>\n",
       "      <td>1.098985e+07</td>\n",
       "      <td>7.851233e+07</td>\n",
       "      <td>0.054271</td>\n",
       "      <td>0.045886</td>\n",
       "      <td>112.889805</td>\n",
       "      <td>20.319163</td>\n",
       "      <td>44.777847</td>\n",
       "      <td>1.600279</td>\n",
       "      <td>33.256671</td>\n",
       "      <td>131.326526</td>\n",
       "    </tr>\n",
       "    <tr>\n",
       "      <th>min</th>\n",
       "      <td>2.539000e+03</td>\n",
       "      <td>2.438000e+03</td>\n",
       "      <td>40.499790</td>\n",
       "      <td>-74.244420</td>\n",
       "      <td>31.000000</td>\n",
       "      <td>1.000000</td>\n",
       "      <td>0.000000</td>\n",
       "      <td>0.000000</td>\n",
       "      <td>1.000000</td>\n",
       "      <td>0.000000</td>\n",
       "    </tr>\n",
       "    <tr>\n",
       "      <th>25%</th>\n",
       "      <td>9.421125e+06</td>\n",
       "      <td>7.722615e+06</td>\n",
       "      <td>40.690320</td>\n",
       "      <td>-73.983110</td>\n",
       "      <td>70.000000</td>\n",
       "      <td>1.000000</td>\n",
       "      <td>1.000000</td>\n",
       "      <td>0.040000</td>\n",
       "      <td>1.000000</td>\n",
       "      <td>0.000000</td>\n",
       "    </tr>\n",
       "    <tr>\n",
       "      <th>50%</th>\n",
       "      <td>1.960821e+07</td>\n",
       "      <td>3.043637e+07</td>\n",
       "      <td>40.723175</td>\n",
       "      <td>-73.955825</td>\n",
       "      <td>109.000000</td>\n",
       "      <td>3.000000</td>\n",
       "      <td>5.000000</td>\n",
       "      <td>0.380000</td>\n",
       "      <td>1.000000</td>\n",
       "      <td>45.000000</td>\n",
       "    </tr>\n",
       "    <tr>\n",
       "      <th>75%</th>\n",
       "      <td>2.910544e+07</td>\n",
       "      <td>1.072455e+08</td>\n",
       "      <td>40.763197</td>\n",
       "      <td>-73.936833</td>\n",
       "      <td>175.000000</td>\n",
       "      <td>5.000000</td>\n",
       "      <td>24.000000</td>\n",
       "      <td>1.590000</td>\n",
       "      <td>2.000000</td>\n",
       "      <td>226.000000</td>\n",
       "    </tr>\n",
       "    <tr>\n",
       "      <th>max</th>\n",
       "      <td>3.648724e+07</td>\n",
       "      <td>2.743213e+08</td>\n",
       "      <td>40.913060</td>\n",
       "      <td>-73.712990</td>\n",
       "      <td>999.000000</td>\n",
       "      <td>1250.000000</td>\n",
       "      <td>629.000000</td>\n",
       "      <td>58.500000</td>\n",
       "      <td>327.000000</td>\n",
       "      <td>365.000000</td>\n",
       "    </tr>\n",
       "  </tbody>\n",
       "</table>\n",
       "</div>"
      ],
      "text/plain": [
       "                 id       host_id      latitude     longitude         price  \\\n",
       "count  4.791800e+04  4.791800e+04  47918.000000  47918.000000  47918.000000   \n",
       "mean   1.897099e+07  6.724387e+07     40.729133    -73.952386    141.817209   \n",
       "std    1.098985e+07  7.851233e+07      0.054271      0.045886    112.889805   \n",
       "min    2.539000e+03  2.438000e+03     40.499790    -74.244420     31.000000   \n",
       "25%    9.421125e+06  7.722615e+06     40.690320    -73.983110     70.000000   \n",
       "50%    1.960821e+07  3.043637e+07     40.723175    -73.955825    109.000000   \n",
       "75%    2.910544e+07  1.072455e+08     40.763197    -73.936833    175.000000   \n",
       "max    3.648724e+07  2.743213e+08     40.913060    -73.712990    999.000000   \n",
       "\n",
       "       minimum_nights  number_of_reviews  reviews_per_month  \\\n",
       "count    47918.000000       47918.000000       47918.000000   \n",
       "mean         6.970867          23.464293           1.095795   \n",
       "std         20.319163          44.777847           1.600279   \n",
       "min          1.000000           0.000000           0.000000   \n",
       "25%          1.000000           1.000000           0.040000   \n",
       "50%          3.000000           5.000000           0.380000   \n",
       "75%          5.000000          24.000000           1.590000   \n",
       "max       1250.000000         629.000000          58.500000   \n",
       "\n",
       "       calculated_host_listings_count  availability_365  \n",
       "count                    47918.000000      47918.000000  \n",
       "mean                         7.212488        112.430611  \n",
       "std                         33.256671        131.326526  \n",
       "min                          1.000000          0.000000  \n",
       "25%                          1.000000          0.000000  \n",
       "50%                          1.000000         45.000000  \n",
       "75%                          2.000000        226.000000  \n",
       "max                        327.000000        365.000000  "
      ]
     },
     "execution_count": 21,
     "metadata": {},
     "output_type": "execute_result"
    }
   ],
   "source": [
    "# Getting the basic statistics analysis of the overall dataset\n",
    "\n",
    "airbnb_df.describe()"
   ]
  },
  {
   "cell_type": "markdown",
   "metadata": {
    "id": "yZ_6qKorXUD0"
   },
   "source": [
    "* The average price in NYC is 141 dollar and median price is 109 dollar."
   ]
  },
  {
   "cell_type": "markdown",
   "metadata": {},
   "source": [
    "### Pie Chart of Different Neighbourhood Group"
   ]
  },
  {
   "cell_type": "code",
   "execution_count": 22,
   "metadata": {
    "colab": {
     "base_uri": "https://localhost:8080/",
     "height": 482
    },
    "id": "bVir9BXjXN_6",
    "outputId": "57c15dd1-853a-4237-f8ee-e08c68eb9ff6"
   },
   "outputs": [
    {
     "data": {
      "image/png": "[encoded data removed]",
      "text/plain": [
       "<Figure size 1296x576 with 1 Axes>"
      ]
     },
     "metadata": {},
     "output_type": "display_data"
    }
   ],
   "source": [
    "# Number of listing in neighbourhood group\n",
    "ng_Listing = pd.DataFrame(airbnb_df.groupby('neighbourhood_group')['id'].count())\n",
    "\n",
    "#Pie chart to see different neighbourhood_group by listing\n",
    "\n",
    "ax = ng_Listing.plot.pie(y='id',autopct='%1.1f%%', legend = False, title='Number of listing in Neighbourhood Group',shadow=True, figsize=(18,8))\n",
    "ax.set_ylabel('Number of listing');"
   ]
  },
  {
   "cell_type": "markdown",
   "metadata": {
    "id": "pW_K4Z6AXgVx"
   },
   "source": [
    "* 85% of Airbnb are distrbute in Manhattan and Brooklyn where as other very less Airbnb locations.\n",
    "* Most of the people stay in Manhattan and Brooklyn."
   ]
  },
  {
   "cell_type": "markdown",
   "metadata": {},
   "source": [
    "### Bar Chart of Different Neighbourhood Group"
   ]
  },
  {
   "cell_type": "code",
   "execution_count": 23,
   "metadata": {
    "colab": {
     "base_uri": "https://localhost:8080/",
     "height": 400
    },
    "id": "9YHl263fXeno",
    "outputId": "ebf19c9f-3ea3-4e9f-ec0d-b391ed90755e"
   },
   "outputs": [
    {
     "data": {
      "image/png": "[encoded data removed]",
      "text/plain": [
       "<Figure size 864x432 with 1 Axes>"
      ]
     },
     "metadata": {
      "needs_background": "light"
     },
     "output_type": "display_data"
    }
   ],
   "source": [
    "# Average number of listing in different neighbourhood group\n",
    "ng_AvgListing = airbnb_df.groupby(['neighbourhood_group'])['id'].mean().reset_index().sort_values('id',ascending=False,ignore_index=True)\n",
    "\n",
    "# Barplot to see  different neighbourhood group by listing\n",
    "plt.rcParams['figure.figsize'] = (12, 6)\n",
    "\n",
    "ax = sns.barplot(x='neighbourhood_group',y='id',data=ng_AvgListing)\n",
    "ax.set_ylabel('Average number of listing');"
   ]
  },
  {
   "cell_type": "markdown",
   "metadata": {
    "id": "sUJC3u7RXtZc"
   },
   "source": [
    "* Average number of listing  in Bronx followed by Queens."
   ]
  },
  {
   "cell_type": "code",
   "execution_count": 24,
   "metadata": {
    "colab": {
     "base_uri": "https://localhost:8080/",
     "height": 389
    },
    "id": "dQV1OkM9XnJw",
    "outputId": "7a0a7a35-b933-4b25-bc1c-f1ac103970d3"
   },
   "outputs": [
    {
     "data": {
      "image/png": "[encoded data removed]",
      "text/plain": [
       "<Figure size 864x432 with 1 Axes>"
      ]
     },
     "metadata": {
      "needs_background": "light"
     },
     "output_type": "display_data"
    }
   ],
   "source": [
    "# Average reviews Airbnb in different neighbourhood group\n",
    "ng_numRev = airbnb_df.groupby(['neighbourhood_group'])['number_of_reviews'].mean().reset_index().sort_values('number_of_reviews',ascending=False,ignore_index=True)\n",
    "\n",
    "# Barplot to see  different neighbourhood group by reviews\n",
    "sns.barplot(x='neighbourhood_group',y='number_of_reviews',data=ng_numRev);"
   ]
  },
  {
   "cell_type": "markdown",
   "metadata": {
    "id": "nSu1eyXHX2Xa"
   },
   "source": [
    "* The most reviews neighbourhood group is stated island, followed by Bronx then Queens."
   ]
  },
  {
   "cell_type": "markdown",
   "metadata": {},
   "source": [
    "### Average price of AirBnb in different neighbourhood_group "
   ]
  },
  {
   "cell_type": "code",
   "execution_count": 25,
   "metadata": {
    "colab": {
     "base_uri": "https://localhost:8080/",
     "height": 405
    },
    "id": "DcvEyj13XyBH",
    "outputId": "4cea5988-599b-42fb-b0a9-d823a773df56"
   },
   "outputs": [
    {
     "data": {
      "image/png": "[encoded data removed]",
      "text/plain": [
       "<Figure size 864x432 with 1 Axes>"
      ]
     },
     "metadata": {
      "needs_background": "light"
     },
     "output_type": "display_data"
    }
   ],
   "source": [
    "#Average price of AirBnb in different neighbourhood_group \n",
    "ng_avgprice = airbnb_df.groupby('neighbourhood_group')['price'].mean().reset_index().sort_values('price',ascending=False,ignore_index=True)\n",
    "\n",
    "# Barplot to see different neighbourhood group by price\n",
    "sns.barplot(x=\"neighbourhood_group\", y=\"price\", data=ng_avgprice)\n",
    "plt.title('Average Price of Airbnb in different neighbourhood group');"
   ]
  },
  {
   "cell_type": "markdown",
   "metadata": {
    "id": "BuQdinfsX_aV"
   },
   "source": [
    "* location wise distribution of price shows that Manhattan has expensive and Bronx has low priced rooms.\n",
    "* If you opt for Bronx you have to pay 50% less then Manhattan."
   ]
  },
  {
   "cell_type": "markdown",
   "metadata": {},
   "source": [
    "### Number of AirBnb in different neighbourhood"
   ]
  },
  {
   "cell_type": "code",
   "execution_count": 26,
   "metadata": {
    "colab": {
     "base_uri": "https://localhost:8080/",
     "height": 441
    },
    "id": "Q1g86PboX615",
    "outputId": "7c19f436-7a68-4da1-9388-f620b79f94e4"
   },
   "outputs": [
    {
     "data": {
      "image/png": "[encoded data removed]",
      "text/plain": [
       "<Figure size 864x432 with 1 Axes>"
      ]
     },
     "metadata": {
      "needs_background": "light"
     },
     "output_type": "display_data"
    }
   ],
   "source": [
    "# Number of AirBnb in different neighbourhood\n",
    "n_Listing = airbnb_df.groupby(['neighbourhood',])['id'].count().reset_index().sort_values('id',ascending=False,ignore_index=True).head(10)\n",
    "\n",
    "# Barplot of different neighbourhood\n",
    "\n",
    "ax = sns.barplot(x=\"neighbourhood\", y=\"id\", data=n_Listing)\n",
    "plt.title('Number of listing in different neighbourhood')\n",
    "ax.set(xlabel=\"neighbourhood\", ylabel = \"Number of listing\")\n",
    "plt.xticks(rotation=15)\n",
    "plt.tight_layout()"
   ]
  },
  {
   "cell_type": "markdown",
   "metadata": {
    "id": "7JdR6WydYKY9"
   },
   "source": [
    "* Most of the Airbnb location are available in this top 15 neighbourhood and people prefer to stay here.\n",
    "* The top 2 neighbourhood which is most prefer by people is   Williamsburg\tand Bedford-Stuyvesant."
   ]
  },
  {
   "cell_type": "markdown",
   "metadata": {},
   "source": [
    "### Average number of listing in different neighbourhood"
   ]
  },
  {
   "cell_type": "code",
   "execution_count": 27,
   "metadata": {
    "colab": {
     "base_uri": "https://localhost:8080/",
     "height": 489
    },
    "id": "uwNXSg21YEP1",
    "outputId": "a2e4f638-8571-4fab-e7d9-8605e4454abc"
   },
   "outputs": [
    {
     "data": {
      "image/png": "[encoded data removed]",
      "text/plain": [
       "<Figure size 864x432 with 1 Axes>"
      ]
     },
     "metadata": {
      "needs_background": "light"
     },
     "output_type": "display_data"
    }
   ],
   "source": [
    "# Average number of listing in different neighbourhood\n",
    "n_AvgListing = airbnb_df.groupby(['neighbourhood'])['id'].mean().reset_index().sort_values('id',ascending=False,ignore_index=True).head(15)\n",
    "\n",
    "# Barplot to see  different neighbourhood by listing\n",
    "ax = sns.barplot(x='neighbourhood',y='id',data=n_AvgListing)\n",
    "ax.set_ylabel('Average number of Listing')\n",
    "plt.xticks(rotation=90)\n",
    "plt.show()"
   ]
  },
  {
   "cell_type": "markdown",
   "metadata": {
    "id": "pQ5GiBvRYStU"
   },
   "source": [
    "* Average  of number of listing in castle hill followed by Bull's Head."
   ]
  },
  {
   "cell_type": "markdown",
   "metadata": {},
   "source": [
    "### Average reviews of Airbnb in different neighbourhood"
   ]
  },
  {
   "cell_type": "code",
   "execution_count": 28,
   "metadata": {
    "colab": {
     "base_uri": "https://localhost:8080/",
     "height": 512
    },
    "id": "Cpg1ZWYWYN64",
    "outputId": "89c60f39-6290-4152-dfc6-a9502736ee6c"
   },
   "outputs": [
    {
     "data": {
      "text/plain": [
       "(array([ 0,  1,  2,  3,  4,  5,  6,  7,  8,  9, 10, 11, 12, 13, 14]),\n",
       " <a list of 15 Text major ticklabel objects>)"
      ]
     },
     "execution_count": 28,
     "metadata": {},
     "output_type": "execute_result"
    },
    {
     "data": {
      "image/png": "[encoded data removed]",
      "text/plain": [
       "<Figure size 864x432 with 1 Axes>"
      ]
     },
     "metadata": {
      "needs_background": "light"
     },
     "output_type": "display_data"
    }
   ],
   "source": [
    "# Average reviews of Airbnb in different neighbourhood\n",
    "n_numRev = airbnb_df.groupby(['neighbourhood'])['number_of_reviews'].mean().reset_index().sort_values('number_of_reviews',ascending=False,ignore_index=True).head(15)\n",
    "\n",
    "# Barplot to see different neighbourhood by reviews\n",
    "sns.barplot(x='neighbourhood',y='number_of_reviews',data=n_numRev)\n",
    "plt.xticks(rotation=90)"
   ]
  },
  {
   "cell_type": "markdown",
   "metadata": {
    "id": "yGNgBT0yYa_D"
   },
   "source": [
    "* The most review neighbourhood is silver lake with average reviews of 118 per month, followed by East Elmhurst\t with average review of 83"
   ]
  },
  {
   "cell_type": "markdown",
   "metadata": {},
   "source": [
    "### Average price of AirBnb in different neighbourhood"
   ]
  },
  {
   "cell_type": "code",
   "execution_count": 29,
   "metadata": {
    "id": "Ll-ZCBcoYWeC"
   },
   "outputs": [],
   "source": [
    "#Average price of AirBnb in different neighbourhood\n",
    "# Average price of top 10 most expensive neighbourhood\n",
    "n_avgprice1 = pd.DataFrame(airbnb_df.groupby('neighbourhood')['price'].mean().reset_index().sort_values('price',ascending=False,ignore_index=True).head(10))\n",
    "# Average price of top 10 most cheapest neighbourhood\n",
    "n_avgprice2 = pd.DataFrame(airbnb_df.groupby('neighbourhood')['price'].mean().reset_index().sort_values('price',ascending=False,ignore_index=True).tail(10))\n",
    "# combine the both \n",
    "n_avgprice =pd.concat([n_avgprice1,n_avgprice2])"
   ]
  },
  {
   "cell_type": "code",
   "execution_count": 30,
   "metadata": {
    "colab": {
     "base_uri": "https://localhost:8080/",
     "height": 421
    },
    "id": "DY8dQYSyYiMS",
    "outputId": "75eda7fe-a674-46db-c5c8-02ef8fb5fded"
   },
   "outputs": [
    {
     "data": {
      "text/plain": [
       "Text(0.5, 1.0, 'Average Price of Airbnb in different neighbourhood')"
      ]
     },
     "execution_count": 30,
     "metadata": {},
     "output_type": "execute_result"
    },
    {
     "data": {
      "image/png": "[encoded data removed]",
      "text/plain": [
       "<Figure size 864x432 with 1 Axes>"
      ]
     },
     "metadata": {
      "needs_background": "light"
     },
     "output_type": "display_data"
    }
   ],
   "source": [
    "# Barplotto see different neighbourhood by price\n",
    "sns.barplot(x='price', y='neighbourhood', data=n_avgprice)\n",
    "plt.title('Average Price of Airbnb in different neighbourhood')"
   ]
  },
  {
   "cell_type": "markdown",
   "metadata": {
    "id": "kFD6ebBpYzWx"
   },
   "source": [
    "* Most expensive neighbourhood is  fort Wadsworth followed by Woodrow then Wribeca.\n",
    "* Most cheapest neighbourhood is hunts point followed by bull's head then Soundview."
   ]
  },
  {
   "cell_type": "markdown",
   "metadata": {},
   "source": [
    "### Listing of different room_type"
   ]
  },
  {
   "cell_type": "code",
   "execution_count": 31,
   "metadata": {
    "colab": {
     "base_uri": "https://localhost:8080/",
     "height": 390
    },
    "id": "FfWQ4vaxYvhu",
    "outputId": "d6104765-51e8-4422-aa2a-b2ea2b3024d1"
   },
   "outputs": [
    {
     "data": {
      "text/plain": [
       "[Text(0, 0.5, 'Number of listing')]"
      ]
     },
     "execution_count": 31,
     "metadata": {},
     "output_type": "execute_result"
    },
    {
     "data": {
      "image/png": "[encoded data removed]",
      "text/plain": [
       "<Figure size 1296x432 with 1 Axes>"
      ]
     },
     "metadata": {},
     "output_type": "display_data"
    }
   ],
   "source": [
    "# Listing of different room_type\n",
    "rt_Listing = pd.DataFrame(airbnb_df.groupby('room_type')['id'].count())\n",
    "\n",
    "# Pie chart to see different room_type by count\n",
    "ax = rt_Listing.plot.pie(y='id', autopct='%1.1f%%', legend = False, figsize=(18,6),shadow=True)\n",
    "plt.title('Room Types')\n",
    "ax.set(ylabel = \"Number of listing\")"
   ]
  },
  {
   "cell_type": "markdown",
   "metadata": {
    "id": "TeifkWXDY9UJ"
   },
   "source": [
    "* The demand of entire home and private room is more high and people also choose entire home and private room.\n",
    "* As per the dataset 98.1% of them are entire home or private room and only 1.9% of them are share room."
   ]
  },
  {
   "cell_type": "markdown",
   "metadata": {},
   "source": [
    "### Average number of Listing in different room_type"
   ]
  },
  {
   "cell_type": "code",
   "execution_count": 32,
   "metadata": {
    "colab": {
     "base_uri": "https://localhost:8080/",
     "height": 390
    },
    "id": "GfhiiCXFY4go",
    "outputId": "dfc59a3f-40db-4878-88fd-772896e931c5"
   },
   "outputs": [
    {
     "data": {
      "text/plain": [
       "[Text(0, 0.5, 'Number of listing')]"
      ]
     },
     "execution_count": 32,
     "metadata": {},
     "output_type": "execute_result"
    },
    {
     "data": {
      "image/png": "[encoded data removed]",
      "text/plain": [
       "<Figure size 1296x432 with 1 Axes>"
      ]
     },
     "metadata": {},
     "output_type": "display_data"
    }
   ],
   "source": [
    "# Average number of Listing in different room_type\n",
    "rt_AvgListing = pd.DataFrame(airbnb_df.groupby('room_type')['id'].mean())\n",
    "\n",
    "# Pie chart to see different room_type by listing\n",
    "ax = rt_AvgListing.plot.pie(y='id', autopct='%1.1f%%', legend = False, figsize=(18,6),shadow=True)\n",
    "plt.title('Room Types')\n",
    "ax.set(ylabel = \"Number of listing\")"
   ]
  },
  {
   "cell_type": "markdown",
   "metadata": {
    "id": "yxSeqJYnZH_U"
   },
   "source": [
    "* Average listing is more in share room."
   ]
  },
  {
   "cell_type": "markdown",
   "metadata": {},
   "source": [
    "### Average price of AirBnb based on room type"
   ]
  },
  {
   "cell_type": "code",
   "execution_count": 33,
   "metadata": {
    "colab": {
     "base_uri": "https://localhost:8080/",
     "height": 421
    },
    "id": "aj2WvAibZDcS",
    "outputId": "8ff45fbe-2a75-4686-f99e-cc190a9fcbc3"
   },
   "outputs": [
    {
     "data": {
      "text/plain": [
       "Text(0.5, 0, 'price')"
      ]
     },
     "execution_count": 33,
     "metadata": {},
     "output_type": "execute_result"
    },
    {
     "data": {
      "image/png": "[encoded data removed]",
      "text/plain": [
       "<Figure size 864x432 with 1 Axes>"
      ]
     },
     "metadata": {
      "needs_background": "light"
     },
     "output_type": "display_data"
    }
   ],
   "source": [
    "# Average price of AirBnb based on room type \n",
    "rt_avgprice = airbnb_df.groupby('room_type')['price'].mean().reset_index().sort_values('price',ascending=False,ignore_index=True)\n",
    "\n",
    "# Barplot to see different room type by price\n",
    "ax = sns.barplot(x='price', y='room_type', data=rt_avgprice)\n",
    "plt.title('Average price of Airbnb based on room type')\n",
    "ax.set_xlabel('price')"
   ]
  },
  {
   "cell_type": "markdown",
   "metadata": {
    "id": "qbCirmEtZP6o"
   },
   "source": [
    "* Most expensive room type is entire home followed by private and share room.\n",
    "* If you opt for private room you have to pay 50% less then entire home."
   ]
  },
  {
   "cell_type": "markdown",
   "metadata": {},
   "source": [
    "### Number of different room type in  neighbourhood group"
   ]
  },
  {
   "cell_type": "code",
   "execution_count": 34,
   "metadata": {
    "colab": {
     "base_uri": "https://localhost:8080/",
     "height": 443
    },
    "id": "IHhkT3uOZMR2",
    "outputId": "6d0a9ea1-d5ff-4601-e8b2-45d51d593983"
   },
   "outputs": [
    {
     "data": {
      "text/plain": [
       "(array([0, 1, 2, 3, 4]), <a list of 5 Text major ticklabel objects>)"
      ]
     },
     "execution_count": 34,
     "metadata": {},
     "output_type": "execute_result"
    },
    {
     "data": {
      "image/png": "[encoded data removed]",
      "text/plain": [
       "<Figure size 476.25x360 with 1 Axes>"
      ]
     },
     "metadata": {
      "needs_background": "light"
     },
     "output_type": "display_data"
    }
   ],
   "source": [
    "# Number of different room type in  neighbourhood group \n",
    "ng_roomtype = airbnb_df.groupby(['neighbourhood_group','room_type'])['id'].count().reset_index().head(15)\n",
    "\n",
    "# Different neighbourhood group and room type\n",
    "ax = sns.catplot(\n",
    "    data=ng_roomtype, kind=\"bar\",\n",
    "    x=\"neighbourhood_group\", y=\"id\", hue=\"room_type\"\n",
    ")\n",
    "ax.set(ylabel = \"Number of listing\")\n",
    "plt.xticks(rotation=90)"
   ]
  },
  {
   "cell_type": "markdown",
   "metadata": {
    "id": "FdtQ8FNyZZdQ"
   },
   "source": [
    "* The demand of entire home is more in Manhattan followed by \n",
    "Brooklyn.\n",
    "* Demand of private room is more in Brooklyn followed by Manhattan."
   ]
  },
  {
   "cell_type": "markdown",
   "metadata": {},
   "source": [
    "### Average number of listing different room type in neighbourhood group"
   ]
  },
  {
   "cell_type": "code",
   "execution_count": 35,
   "metadata": {
    "colab": {
     "base_uri": "https://localhost:8080/",
     "height": 443
    },
    "id": "FY_YDOm2ZUq_",
    "outputId": "10bfe22b-3e2b-47a0-c649-7de818edce63"
   },
   "outputs": [
    {
     "data": {
      "text/plain": [
       "(array([0, 1, 2, 3, 4]), <a list of 5 Text major ticklabel objects>)"
      ]
     },
     "execution_count": 35,
     "metadata": {},
     "output_type": "execute_result"
    },
    {
     "data": {
      "image/png": "[encoded data removed]",
      "text/plain": [
       "<Figure size 476.25x360 with 1 Axes>"
      ]
     },
     "metadata": {
      "needs_background": "light"
     },
     "output_type": "display_data"
    }
   ],
   "source": [
    "#  Average number of listing different room type in neighbourhood group \n",
    "ng_rt_Listing = airbnb_df.groupby(['neighbourhood_group','room_type'])['id'].median().reset_index().head(15)\n",
    "\n",
    "# Different neighbourhood group and room type\n",
    "ax = sns.catplot(\n",
    "    data=ng_rt_Listing, kind=\"bar\",\n",
    "    x=\"neighbourhood_group\", y=\"id\", hue=\"room_type\"\n",
    ")\n",
    "ax.set(ylabel = \"Average number of listing\")\n",
    "plt.xticks(rotation=90)"
   ]
  },
  {
   "cell_type": "markdown",
   "metadata": {
    "id": "Bly8yp-JZj6C"
   },
   "source": [
    "* Average listing of share room is more in Staten island followed by Bronx.\n",
    "* Average listing of entire home is more in Bronx followed by Staten island."
   ]
  },
  {
   "cell_type": "markdown",
   "metadata": {},
   "source": [
    "### Different room type listing in neighbourhood "
   ]
  },
  {
   "cell_type": "code",
   "execution_count": 36,
   "metadata": {
    "colab": {
     "base_uri": "https://localhost:8080/",
     "height": 460
    },
    "id": "MqtpcGiYZfMY",
    "outputId": "5053ba06-fea3-4772-b214-21e8bfc66069"
   },
   "outputs": [
    {
     "data": {
      "text/plain": [
       "(array([0, 1, 2, 3, 4, 5, 6]), <a list of 7 Text major ticklabel objects>)"
      ]
     },
     "execution_count": 36,
     "metadata": {},
     "output_type": "execute_result"
    },
    {
     "data": {
      "image/png": "[encoded data removed]",
      "text/plain": [
       "<Figure size 476.25x360 with 1 Axes>"
      ]
     },
     "metadata": {
      "needs_background": "light"
     },
     "output_type": "display_data"
    }
   ],
   "source": [
    "# Different room type listing in neighbourhood \n",
    "n_rt_Listing = airbnb_df.groupby(['neighbourhood','room_type'])['id'].median().reset_index().head(15)\n",
    "\n",
    "\n",
    "# # Different neighbourhood  and room type\n",
    "ax = sns.catplot(\n",
    "    data=n_rt_Listing, kind=\"bar\",\n",
    "    x=\"neighbourhood\", y=\"id\", hue=\"room_type\"\n",
    ")\n",
    "ax.set(ylabel = \"Average number of listing\")\n",
    "plt.xticks(rotation=90)"
   ]
  },
  {
   "cell_type": "markdown",
   "metadata": {
    "id": "1BR7pYBvZuo1"
   },
   "source": [
    "* we can see that only two of the top 15 locations have listing for shared room, Arverne neighbourhood in Queens with 'Share room' room type as the highest."
   ]
  },
  {
   "cell_type": "markdown",
   "metadata": {},
   "source": [
    "### Combining neighbourhood group with room_type by price"
   ]
  },
  {
   "cell_type": "code",
   "execution_count": 37,
   "metadata": {
    "colab": {
     "base_uri": "https://localhost:8080/",
     "height": 479
    },
    "id": "ekOYJPtvZpFq",
    "outputId": "b1746e07-76d7-4b6c-e9d4-8db5fbaa61e7"
   },
   "outputs": [
    {
     "data": {
      "text/plain": [
       "Text(0.5, 1.0, 'Average price of a room according to the neighbourhood group')"
      ]
     },
     "execution_count": 37,
     "metadata": {},
     "output_type": "execute_result"
    },
    {
     "data": {
      "image/png": "[encoded data removed]",
      "text/plain": [
       "<Figure size 864x432 with 1 Axes>"
      ]
     },
     "metadata": {
      "needs_background": "light"
     },
     "output_type": "display_data"
    }
   ],
   "source": [
    "# Combining neighbourhood group with room_type by price\n",
    "ng_rt_price = airbnb_df.groupby(['neighbourhood_group','room_type'])['price'].mean().unstack()\n",
    "\n",
    "# Different neighbourhood group, room type and average price\n",
    "ax = ng_rt_price.plot(kind = \"bar\")\n",
    "ax.set_ylabel('Price')\n",
    "\n",
    "plt.title('Average price of a room according to the neighbourhood group')"
   ]
  },
  {
   "cell_type": "markdown",
   "metadata": {
    "id": "VMAncIjvZ3S-"
   },
   "source": [
    "* Manhattan has the highest price for room types with Entire home/apt ranging to nearly `222USD/night`, followed by Private room with `109USD/night`.And it’s obvious being the most expensive place to live in!\n",
    "* In Manhattan you opt for entire home 40% more amount then opt entire home in Brooklyn."
   ]
  },
  {
   "cell_type": "markdown",
   "metadata": {},
   "source": [
    "### Top 10 Most Popular Airbnb Hosts"
   ]
  },
  {
   "cell_type": "code",
   "execution_count": 38,
   "metadata": {
    "colab": {
     "base_uri": "https://localhost:8080/",
     "height": 477
    },
    "id": "EMW3AnLRZzOd",
    "outputId": "0ff2505c-1969-48ba-c3ff-71c7e04b975b"
   },
   "outputs": [
    {
     "data": {
      "text/plain": [
       "Text(0.5, 1.0, 'Top hosts on AIRBNB in NYC')"
      ]
     },
     "execution_count": 38,
     "metadata": {},
     "output_type": "execute_result"
    },
    {
     "data": {
      "image/png": "[encoded data removed]",
      "text/plain": [
       "<Figure size 864x432 with 1 Axes>"
      ]
     },
     "metadata": {
      "needs_background": "light"
     },
     "output_type": "display_data"
    }
   ],
   "source": [
    "# Top 10 Most Popular Airbnb Hosts\n",
    "dfhost =airbnb_df.host_name.value_counts()[:10]\n",
    "\n",
    "# Barplot to see top 10 popular hosts in an Airbnb\n",
    "ax = dfhost.plot(kind='bar')\n",
    "ax.set_xlabel('Host NAME')\n",
    "ax.set_ylabel('Listings')\n",
    "ax.set_title(\"Top hosts on AIRBNB in NYC\")"
   ]
  },
  {
   "cell_type": "markdown",
   "metadata": {
    "id": "_uiFSgLqaAYk"
   },
   "source": [
    "* The bar graph shows top 10 hosts in an descending order based on their number of listings. Michael is the top host from the dataset with more than 414 listings."
   ]
  },
  {
   "cell_type": "code",
   "execution_count": 39,
   "metadata": {
    "colab": {
     "base_uri": "https://localhost:8080/"
    },
    "id": "2RvIHezBZ8Us",
    "outputId": "da92007e-d042-4fd9-e54b-0b485fc93c85"
   },
   "outputs": [
    {
     "data": {
      "text/plain": [
       "Michael         414\n",
       "David           396\n",
       "Sonder (NYC)    327\n",
       "John            291\n",
       "Alex            273\n",
       "Blueground      232\n",
       "Sarah           225\n",
       "Daniel          224\n",
       "Jessica         201\n",
       "Maria           198\n",
       "Name: host_name, dtype: int64"
      ]
     },
     "execution_count": 39,
     "metadata": {},
     "output_type": "execute_result"
    }
   ],
   "source": [
    "dfhost"
   ]
  },
  {
   "cell_type": "code",
   "execution_count": 40,
   "metadata": {
    "id": "6XLRDeHKaESH"
   },
   "outputs": [],
   "source": [
    "#subset of the df only with host Michael\n",
    "host1_df =  airbnb_df[airbnb_df['host_name']=='Michael']"
   ]
  },
  {
   "cell_type": "code",
   "execution_count": 41,
   "metadata": {
    "colab": {
     "base_uri": "https://localhost:8080/"
    },
    "id": "ulYEu2nfaH11",
    "outputId": "f05c872c-76ff-4bff-d224-5b13d348b0cb"
   },
   "outputs": [
    {
     "data": {
      "text/plain": [
       "(414, 14)"
      ]
     },
     "execution_count": 41,
     "metadata": {},
     "output_type": "execute_result"
    }
   ],
   "source": [
    "host1_df.shape"
   ]
  },
  {
   "cell_type": "code",
   "execution_count": 42,
   "metadata": {
    "colab": {
     "base_uri": "https://localhost:8080/"
    },
    "id": "nXB87qcqaLCR",
    "outputId": "cb3ca1af-338a-410a-97f2-7d74024f765a"
   },
   "outputs": [
    {
     "data": {
      "text/plain": [
       "Williamsburg          41\n",
       "Chelsea               33\n",
       "Bedford-Stuyvesant    29\n",
       "Hell's Kitchen        25\n",
       "Bushwick              24\n",
       "                      ..\n",
       "Little Italy           1\n",
       "Tribeca                1\n",
       "Sheepshead Bay         1\n",
       "Inwood                 1\n",
       "Red Hook               1\n",
       "Name: neighbourhood, Length: 66, dtype: int64"
      ]
     },
     "execution_count": 42,
     "metadata": {},
     "output_type": "execute_result"
    }
   ],
   "source": [
    "# Michael listings across the city\n",
    "host1_df['neighbourhood'].value_counts()"
   ]
  },
  {
   "cell_type": "code",
   "execution_count": 43,
   "metadata": {
    "colab": {
     "base_uri": "https://localhost:8080/"
    },
    "id": "zr86ugGBaPdh",
    "outputId": "14451b0c-e902-474f-c703-0031f00bbf29"
   },
   "outputs": [
    {
     "data": {
      "text/plain": [
       "Entire home/apt    249\n",
       "Private room       151\n",
       "Shared room         14\n",
       "Name: room_type, dtype: int64"
      ]
     },
     "execution_count": 43,
     "metadata": {},
     "output_type": "execute_result"
    }
   ],
   "source": [
    "# Michael listings room type\n",
    "host1_df['room_type'].value_counts()"
   ]
  },
  {
   "cell_type": "code",
   "execution_count": 44,
   "metadata": {
    "colab": {
     "base_uri": "https://localhost:8080/"
    },
    "id": "th3RfEEpaTxi",
    "outputId": "3e39a533-87e2-4833-9f56-489f20dc81c0"
   },
   "outputs": [
    {
     "data": {
      "text/plain": [
       "1     107\n",
       "2      85\n",
       "3      77\n",
       "5      27\n",
       "4      25\n",
       "7      25\n",
       "30     19\n",
       "6       8\n",
       "14      6\n",
       "21      5\n",
       "Name: minimum_nights, dtype: int64"
      ]
     },
     "execution_count": 44,
     "metadata": {},
     "output_type": "execute_result"
    }
   ],
   "source": [
    "# Michael  listings with minimum nights\n",
    "host1_df['minimum_nights'].value_counts().head(10)"
   ]
  },
  {
   "cell_type": "markdown",
   "metadata": {},
   "source": [
    "### Top 10 reviewed hosts"
   ]
  },
  {
   "cell_type": "code",
   "execution_count": 45,
   "metadata": {
    "colab": {
     "base_uri": "https://localhost:8080/",
     "height": 448
    },
    "id": "0spJt3lFaXJy",
    "outputId": "437de7af-e62f-474a-e7f7-a0bbc6db7167"
   },
   "outputs": [
    {
     "data": {
      "text/plain": [
       "<matplotlib.axes._subplots.AxesSubplot at 0x1b64f6bc3d0>"
      ]
     },
     "execution_count": 45,
     "metadata": {},
     "output_type": "execute_result"
    },
    {
     "data": {
      "image/png": "[encoded data removed]",
      "text/plain": [
       "<Figure size 864x432 with 1 Axes>"
      ]
     },
     "metadata": {
      "needs_background": "light"
     },
     "output_type": "display_data"
    }
   ],
   "source": [
    "# Top 10 reviewed hosts \n",
    "top_reviewed_host = airbnb_df.groupby('host_name')['reviews_per_month'].max().reset_index().sort_values('reviews_per_month',ascending=False,ignore_index=True).head(10)\n",
    "\n",
    "#Barplot to see top 10 hosts by reviews\n",
    "top_reviewed_host.plot(x='host_name',y='reviews_per_month',kind='bar')"
   ]
  },
  {
   "cell_type": "markdown",
   "metadata": {
    "id": "nN4kuRSjagbl"
   },
   "source": [
    "* The bar graph shows top 10 hosts in an descending order based on their number of reviews/month. Row NYC is the top host from the dataset around 60 reviews/month."
   ]
  },
  {
   "cell_type": "markdown",
   "metadata": {},
   "source": [
    "### HeatMap"
   ]
  },
  {
   "cell_type": "code",
   "execution_count": 46,
   "metadata": {
    "colab": {
     "base_uri": "https://localhost:8080/",
     "height": 532
    },
    "id": "yJmsy2WMgn8F",
    "outputId": "76d1e14a-e339-4a53-a1cc-3672b143a727"
   },
   "outputs": [
    {
     "data": {
      "image/png": "[encoded data removed]",
      "text/plain": [
       "<Figure size 864x432 with 2 Axes>"
      ]
     },
     "metadata": {
      "needs_background": "light"
     },
     "output_type": "display_data"
    }
   ],
   "source": [
    "# Correlation Matrix of Attributes\n",
    "corr_df  = airbnb_df.corr()\n",
    "\n",
    "# Heatmap to see correlation matrix\n",
    "ax = sns.heatmap(corr_df,cmap=\"YlGnBu\")\n",
    "ax.set_title('Correlation Matrix of Attributes');"
   ]
  },
  {
   "cell_type": "markdown",
   "metadata": {
    "id": "1pj295Kph3P1"
   },
   "source": [
    "Highest Correlation is between.             \n",
    "reviews_per_month and number_of_reviews: 0.589407           \n",
    "There is no strong correlation among the numeric variables\n",
    "\n",
    "\n",
    "\n",
    "\n",
    "\n"
   ]
  },
  {
   "cell_type": "markdown",
   "metadata": {
    "id": "12OXjDSBam_o"
   },
   "source": [
    "# Conclusion"
   ]
  },
  {
   "cell_type": "markdown",
   "metadata": {
    "id": "2cEuoRD6aoxt"
   },
   "source": [
    "* All the neighbourhood groups, 'Share room' is the room type that gets most traffic.\n",
    "* Because it is  most cheapest room type available in all properties. \n",
    "* If we calculate with respect to neighbourhood we can see that only two of the top 15 locations have listing for shared room, Arverne neighbourhood in Queens with 'Share room' roomtype as the highest.\n",
    "* Overall Arverne, staten island  has the highest traffic.\n",
    "* The most busiest host is michael.Because he is listed more 414 times.\n",
    "* We can conclude that throughout NewYork city there is a larger preference towards Entire apt as compared to private or shared rooms irrespective to the prices hence the Traffic there are most and busiest host is 'michael'."
   ]
  }
 ],
 "metadata": {
  "colab": {
   "name": "Final  Notebook  Of Airbnb Bookings Analysis - Capstone Project.ipynb",
   "provenance": []
  },
  "kernelspec": {
   "display_name": "Python 3",
   "language": "python",
   "name": "python3"
  },
  "language_info": {
   "codemirror_mode": {
    "name": "ipython",
    "version": 3
   },
   "file_extension": ".py",
   "mimetype": "text/x-python",
   "name": "python",
   "nbconvert_exporter": "python",
   "pygments_lexer": "ipython3",
   "version": "3.8.5"
  }
 },
 "nbformat": 4,
 "nbformat_minor": 1
}
